{
 "cells": [
  {
   "cell_type": "markdown",
   "metadata": {},
   "source": [
    "### Notebook to demonstrate the tweet_parser module\n",
    "#### Fiona Pigott"
   ]
  },
  {
   "cell_type": "code",
   "execution_count": null,
   "metadata": {
    "collapsed": true
   },
   "outputs": [],
   "source": [
    "# import the tweet_parser module\n",
    "from tweet_parser.tweet import Tweet\n",
    "import fileinput\n",
    "import json"
   ]
  },
  {
   "cell_type": "code",
   "execution_count": null,
   "metadata": {},
   "outputs": [],
   "source": [
    "# import the exact same set of Tweets in both original format and activity streams format\n",
    "activity_streams_tweets = []\n",
    "for line in fileinput.FileInput(\"../test/tweet_payload_examples/activity_streams_examples.json\"):\n",
    "    activity_streams_tweets.append(Tweet(json.loads(line)))\n",
    "\n",
    "original_format_tweets = []\n",
    "for line in fileinput.FileInput(\"../test/tweet_payload_examples/original_format_examples.json\"):\n",
    "    original_format_tweets.append(Tweet(json.loads(line)))"
   ]
  },
  {
   "cell_type": "code",
   "execution_count": null,
   "metadata": {},
   "outputs": [],
   "source": [
    "print(\"Available methods: \\n - {}\".format(\"\\n - \".join([x for x in activity_streams_tweets[0].__dir__() if x[0] != \"_\"])))"
   ]
  },
  {
   "cell_type": "code",
   "execution_count": null,
   "metadata": {},
   "outputs": [],
   "source": [
    "activity_streams_tweets[-4].tweet_links"
   ]
  },
  {
   "cell_type": "code",
   "execution_count": null,
   "metadata": {},
   "outputs": [],
   "source": [
    "for i,x in enumerate(activity_streams_tweets):\n",
    "    print(x.id, x.tweet_type, x.tweet_links)"
   ]
  },
  {
   "cell_type": "code",
   "execution_count": null,
   "metadata": {},
   "outputs": [],
   "source": [
    "for i,x in enumerate(original_format_tweets):\n",
    "    print(i, \":\", x.all_text)\n",
    "    print(\"##########\")"
   ]
  },
  {
   "cell_type": "code",
   "execution_count": null,
   "metadata": {
    "collapsed": true
   },
   "outputs": [],
   "source": [
    "quote_ception = original_format_tweets[2]"
   ]
  },
  {
   "cell_type": "code",
   "execution_count": null,
   "metadata": {},
   "outputs": [],
   "source": [
    "quote_ception.hashtags"
   ]
  },
  {
   "cell_type": "code",
   "execution_count": null,
   "metadata": {},
   "outputs": [],
   "source": [
    "for x in activity_streams_tweets:\n",
    "    print(x.user_mentions_ids)\n",
    "    print(\"##########\")"
   ]
  },
  {
   "cell_type": "code",
   "execution_count": null,
   "metadata": {},
   "outputs": [],
   "source": [
    "for x in activity_streams_tweets:\n",
    "    print(x.all_text)\n",
    "    print(\"##########\")"
   ]
  },
  {
   "cell_type": "code",
   "execution_count": null,
   "metadata": {},
   "outputs": [],
   "source": [
    "activity_streams_tweets[16].quoted_user"
   ]
  },
  {
   "cell_type": "code",
   "execution_count": null,
   "metadata": {},
   "outputs": [],
   "source": [
    "activity_streams_tweets[16].quote_tweet.user_mentions"
   ]
  },
  {
   "cell_type": "code",
   "execution_count": null,
   "metadata": {
    "scrolled": false
   },
   "outputs": [],
   "source": [
    "for i,x in enumerate(activity_streams_tweets):\n",
    "    print(i,x.quoted_mentions)\n",
    "    print(\"##########\")"
   ]
  },
  {
   "cell_type": "code",
   "execution_count": null,
   "metadata": {},
   "outputs": [],
   "source": [
    "for x in original_format_tweets:\n",
    "    print(x.all_text_without_links)\n",
    "    print(\"##########\")"
   ]
  },
  {
   "cell_type": "code",
   "execution_count": null,
   "metadata": {},
   "outputs": [],
   "source": [
    "for x in original_format_tweets:\n",
    "    print(x.most_unrolled_urls)\n",
    "    print(\"##########\")"
   ]
  },
  {
   "cell_type": "code",
   "execution_count": null,
   "metadata": {},
   "outputs": [],
   "source": [
    "for x in original_format_tweets:\n",
    "    print(x.hashtags)\n",
    "    print(\"##########\")"
   ]
  },
  {
   "cell_type": "code",
   "execution_count": null,
   "metadata": {},
   "outputs": [],
   "source": [
    "Tweet({\"thing\":\"th\"})"
   ]
  },
  {
   "cell_type": "code",
   "execution_count": null,
   "metadata": {},
   "outputs": [],
   "source": [
    "malformed_quotetweet = Tweet(json.load(\n",
    "            open(\"tweet_payload_examples/broken_and_unsupported_payloads/original_format_missing_quotetweet_field.json\",\"r\")),\n",
    "                                do_format_checking = True)"
   ]
  },
  {
   "cell_type": "code",
   "execution_count": null,
   "metadata": {},
   "outputs": [],
   "source": [
    "malformed_quotetweet.embedded_tweet"
   ]
  },
  {
   "cell_type": "code",
   "execution_count": null,
   "metadata": {
    "collapsed": true
   },
   "outputs": [],
   "source": []
  }
 ],
 "metadata": {
  "kernelspec": {
   "display_name": "Python 3",
   "language": "python",
   "name": "python3"
  },
  "language_info": {
   "codemirror_mode": {
    "name": "ipython",
    "version": 3
   },
   "file_extension": ".py",
   "mimetype": "text/x-python",
   "name": "python",
   "nbconvert_exporter": "python",
   "pygments_lexer": "ipython3",
   "version": "3.6.1"
  }
 },
 "nbformat": 4,
 "nbformat_minor": 2
}
